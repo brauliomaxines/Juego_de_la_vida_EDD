{
  "nbformat": 4,
  "nbformat_minor": 0,
  "metadata": {
    "colab": {
      "name": "Array2dADT_1310.ipynb",
      "provenance": [],
      "collapsed_sections": []
    },
    "kernelspec": {
      "name": "python3",
      "display_name": "Python 3"
    },
    "language_info": {
      "name": "python"
    }
  },
  "cells": [
    {
      "cell_type": "code",
      "metadata": {
        "id": "kbe8-vDinLsj"
      },
      "source": [
        "class Array2DADT:\n",
        "    def __init__( self , ren , col ):\n",
        "        self.__pollo = [ [ 0 for y in range(col) ] for x in range(ren) ]\n",
        "        \n",
        "    def clear( self , dato ):\n",
        "        self.__pollo = [ [ dato for y in range(self.get_col_size())] for x in range(self.get_row_size()) ]\n",
        "      \n",
        "    def get_row_size( self ):\n",
        "        return len ( self.__pollo)\n",
        "\n",
        "    def get_col_size(self ):\n",
        "        return len(self.__pollo[0] )\n",
        "\n",
        "    def set_item(self , ren , col , dato):\n",
        "        self.__pollo[ren][col] = dato\n",
        "\n",
        "    def get_item( self, ren , col):\n",
        "        return self.__pollo[ren][col]\n",
        "\n",
        "    def to_string( self ):\n",
        "        cadena = \"\"\n",
        "        for renglon in self.__pollo:\n",
        "            cadena = cadena + \"|\"\n",
        "            for dato in renglon:\n",
        "                cadena = cadena + str(dato) + \" | \"\n",
        "            cadena = cadena + \"\\n\"\n",
        "        return cadena"
      ],
      "execution_count": 4,
      "outputs": []
    },
    {
      "cell_type": "code",
      "metadata": {
        "colab": {
          "base_uri": "https://localhost:8080/"
        },
        "id": "IfoxaBeoocVX",
        "outputId": "6c8435af-c18d-4cae-9142-f9e5b10b7b2d"
      },
      "source": [
        "a2d = Array2DADT(3 , 6)\n",
        "print(f\"Ren: { a2d.get_row_size() } \")\n",
        "print(f\"Col: { a2d.get_col_size() } \")\n",
        "print(a2d.to_string())\n",
        "print(\"\")\n",
        "a2d.clear(\"M\")\n",
        "print(a2d.to_string())\n",
        "\n",
        "a2d.set_item(2, 3, 'p')\n",
        "print(a2d.to_string())\n",
        "print(a2d.get_item( 2 , 3))"
      ],
      "execution_count": 5,
      "outputs": [
        {
          "output_type": "stream",
          "name": "stdout",
          "text": [
            "Ren: 3 \n",
            "Col: 6 \n",
            "|0 | 0 | 0 | 0 | 0 | 0 | \n",
            "|0 | 0 | 0 | 0 | 0 | 0 | \n",
            "|0 | 0 | 0 | 0 | 0 | 0 | \n",
            "\n",
            "\n",
            "|M | M | M | M | M | M | \n",
            "|M | M | M | M | M | M | \n",
            "|M | M | M | M | M | M | \n",
            "\n",
            "|M | M | M | M | M | M | \n",
            "|M | M | M | M | M | M | \n",
            "|M | M | M | p | M | M | \n",
            "\n",
            "p\n"
          ]
        }
      ]
    },
    {
      "cell_type": "code",
      "metadata": {
        "id": "zjz1kpe337r3"
      },
      "source": [
        "class JuegoDeLaVida:\n",
        "    def __init__(self , ruta_archivo):\n",
        "\n",
        "        self.cols = None\n",
        "        self.rens = None\n",
        "        self.tablero = None\n",
        "        self.generaciones = None\n",
        "        self.read_game_data(ruta_archivo)\n",
        "\n",
        "    def read_game_data(self, archivo):\n",
        "        archivo = open(archivo, 'rt')\n",
        "        lineas = archivo.readlines()\n",
        "        for index in range(len(lineas)):\n",
        "            lineas[index] = lineas [index].strip()\n",
        "        #print(lineas)\n",
        "        self.rens = int( lineas[0])\n",
        "        self.cols = int( lineas[1])\n",
        "        self.tablero = Array2DADT(self.rens, self.cols)\n",
        "        print(f\"{self.tablero.get_row_size()}) {self.tablero.get_col_size()}\")\n",
        "        r= 0\n",
        "        c= 0\n",
        "        print(lineas)\n",
        "        for index in range(2 , 2 + self.rens , 1 ):\n",
        "            c=0\n",
        "            for dato in lineas[index].split(','):\n",
        "                self.tablero.set_item(r, c, int(dato))\n",
        "                c += 1\n",
        "            r +=1\n",
        "\n",
        "        self.generaciones = int(lineas[-1])\n",
        "        print(\"Gens:\", self.generaciones)\n",
        "\n",
        "        print(self.tablero.to_string())\n",
        "\n",
        "    def get_vecinos( self , r , c):\n",
        "        vecinos = []\n",
        "        for ren in range( r-1 , r+2 , 1 ):\n",
        "            for col in range(c-1 , c+2 , 1):\n",
        "                if ren < 0 or ren >= self.tablero.get_row_size() or col < 0 or col >= self.tablero.get_col_size() or (ren==r and col==c):\n",
        "                    pass\n",
        "                else:\n",
        "                    vecinos.append((ren,col))\n",
        "        return vecinos\n",
        "\n",
        "    def get_vecinos_vivos(self , r , c):\n",
        "        vecinos =self.get_vecinos(r, c)\n",
        "        vivos = 0 \n",
        "        for par in vecinos:\n",
        "            if self.tablero.get_item(par[0], par[1] ) ==1:\n",
        "                vivos += 1\n",
        "        return vivos\n",
        "\n",
        "\n",
        "    def calcular_siguiente(self):\n",
        "        nueva_gen = Array2DADT(self.rens, self.cols)\n",
        "        #Aplicar  4 reglas a cada celula y el resultado ponerlo en nueva_gen\n",
        "        for ren in range(self.rens):\n",
        "            for col in range(self.cols):\n",
        "                print(f\"{ren}, {col} -->{self.get_vecinos_vivos(ren, col)}\")\n",
        "                \n",
        "\n",
        "    def corEnTablero( self ):\n",
        "        cors = []\n",
        "        for ren in range( self.ren ):\n",
        "            for col in range( self.col ):\n",
        "                cor = [ ren, col ]\n",
        "                cors.append(cor)\n",
        "        self.cors = cors \n",
        "\n",
        "    def aplicarReglas( self ):\n",
        "        nuevoEstado = []\n",
        "\n",
        "        for cor in self.cors:\n",
        "            vivos = self.vecinosVivos( cor[0], cor[1] )\n",
        "            estado = self.tablero.get_item( cor[0], cor[1] )\n",
        "            \n",
        "\n",
        "            if estado == 'V':\n",
        "                if vivos == 2 or vivos == 3:\n",
        "                    nuevoEstado.append('V')\n",
        "                elif vivos == 1 or vivos == 0:\n",
        "                    nuevoEstado.append('M')\n",
        "                elif vivos >= 4 :\n",
        "                    nuevoEstado.append('M')\n",
        "            elif estado  == 'M':\n",
        "                if vivos == 3 :\n",
        "                    nuevoEstado.append('V')\n",
        "                else:\n",
        "                    nuevoEstado.append('M')\n",
        "\n",
        "\n",
        "        for cor in self.cors:\n",
        "            self.tablero.set_item( cor[0], cor[1] ,nuevoEstado[0])\n",
        "            nuevoEstado.pop( 0 )\n",
        "\n",
        "        self.gen += 1"
      ],
      "execution_count": 6,
      "outputs": []
    },
    {
      "cell_type": "code",
      "metadata": {
        "colab": {
          "base_uri": "https://localhost:8080/"
        },
        "id": "7XmkByrbvIxa",
        "outputId": "7915ebde-9e26-4ac1-94b3-1709508422ed"
      },
      "source": [
        "juego = JuegoDeLaVida( \"entrada.txt\" )\n",
        "print(juego)\n"
      ],
      "execution_count": 33,
      "outputs": [
        {
          "output_type": "stream",
          "name": "stdout",
          "text": [
            "5) 5\n",
            "['5', '5', '0,0,0,0,0', '0,0,1,0,0', '0,1,1,1,0', '0,0,0,0,0', '0,0,0,0,0', '10']\n",
            "Gens: 10\n",
            "|0 | 0 | 0 | 0 | 0 | \n",
            "|0 | 0 | 1 | 0 | 0 | \n",
            "|0 | 1 | 1 | 1 | 0 | \n",
            "|0 | 0 | 0 | 0 | 0 | \n",
            "|0 | 0 | 0 | 0 | 0 | \n",
            "\n",
            "<__main__.JuegoDeLaVida object at 0x7f49c2406310>\n"
          ]
        }
      ]
    }
  ]
}